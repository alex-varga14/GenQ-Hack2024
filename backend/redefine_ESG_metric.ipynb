{
 "cells": [
  {
   "cell_type": "markdown",
   "id": "50923994-7d5c-46bf-802c-4e83bdb08a8e",
   "metadata": {},
   "source": [
    "# Will find correlation between ESG (and only E) scores and the return.\n",
    "\n",
    "## Then will redefine our ESG metric, namely ESGR and maximize this variable"
   ]
  },
  {
   "cell_type": "code",
   "execution_count": 4,
   "id": "9acdb185-f4bd-4b8f-a980-46a9daa23d2a",
   "metadata": {},
   "outputs": [
    {
     "name": "stdout",
     "output_type": "stream",
     "text": [
      "the AVG return is 0.0017029850335665128\t the total ESG score is: 11.81\t the env. score is 0.01\n",
      "the AVG return is -2.440172177436038e-06\t the total ESG score is: 33.68\t the env. score is 18.57\n",
      "the AVG return is 0.0009873654702359268\t the total ESG score is: 26.15\t the env. score is 7.32\n",
      "the AVG return is -0.0007295207899513821\t the total ESG score is: 24.55\t the env. score is 9.06\n",
      "the AVG return is 0.0014701442727089295\t the total ESG score is: 21.86\t the env. score is 5.42\n",
      "the AVG return is -0.0005527010213243738\t the total ESG score is: 17.96\t the env. score is 2.14\n",
      "the AVG return is 0.002214095612553523\t the total ESG score is: 17.56\t the env. score is 7.78\n",
      "the AVG return is -0.00017531218679703233\t the total ESG score is: 17.62\t the env. score is 1.44\n",
      "the AVG return is 0.0009208921862476832\t the total ESG score is: 17.53\t the env. score is 5.73\n",
      "the AVG return is 0.0009661857670689299\t the total ESG score is: 20.39\t the env. score is 10.24\n",
      "the AVG return is 0.0007469472827713529\t the total ESG score is: 32.99\t the env. score is 5.06\n",
      "the AVG return is -0.0014398667862351995\t the total ESG score is: 15.47\t the env. score is 2.1\n",
      "the AVG return is 0.0003460829654439182\t the total ESG score is: 26.69\t the env. score is 12.8\n"
     ]
    }
   ],
   "source": [
    "import json\n",
    "import numpy as np\n",
    "from scipy.stats import pearsonr\n",
    "import qiskit\n",
    "\n",
    "# Load the JSON data from a file\n",
    "file_path = 'Datasets/small_dataset.json'  # Replace with your actual file path\n",
    "\n",
    "with open(file_path, 'r') as file:\n",
    "    data = json.load(file)[\"data\"]  # Access the \"data\" field in the JSON\n",
    "\n",
    "# Function to calculate the correlation between returns and ESG score for a company\n",
    "def calculate_correlation(company_name, company_data):\n",
    "    # Check if 'History' exists in the company data\n",
    "    if \"History\" not in company_data:\n",
    "        return None  # Skip if no historical data\n",
    "    \n",
    "    # Extract the historical closing prices\n",
    "    history = company_data[\"History\"]\n",
    "    dates = sorted(history.keys())  # Sort dates chronologically\n",
    "    closing_prices = [history[date][\"Close\"] for date in dates]\n",
    "\n",
    "    # Calculate daily returns\n",
    "    if len(closing_prices) < 2:\n",
    "        return None, None, None  # Not enough data points to calculate returns\n",
    "    \n",
    "    returns = [(closing_prices[i] - closing_prices[i - 1]) / closing_prices[i - 1] for i in range(1, len(closing_prices))]\n",
    "\n",
    "    # Check if 'Sustainability' and 'totalEsg' exist\n",
    "    if \"Sustainability\" not in company_data or \"esgScores\" not in company_data[\"Sustainability\"] or \"totalEsg\" not in company_data[\"Sustainability\"][\"esgScores\"]:\n",
    "        average_return = np.mean(returns)\n",
    "        return average_return, None, None  # Skip if ESG data is missing\n",
    "\n",
    "    # Extract the total ESG score\n",
    "    total_esg = company_data[\"Sustainability\"][\"esgScores\"][\"totalEsg\"]\n",
    "    env_score = company_data[\"Sustainability\"][\"esgScores\"][\"environmentScore\"]\n",
    "\n",
    "    average_return = np.mean(returns)\n",
    "    return average_return, total_esg, env_score\n",
    "\n",
    "# Iterate over all companies and calculate correlations\n",
    "for company_name, company_data in data.items():\n",
    "    returns, totalESG, env_score = calculate_correlation(company_name, company_data)\n",
    "    # if correlation is not None:\n",
    "    print(f\"the AVG return is {returns}\\t the total ESG score is: {totalESG}\\t the env. score is {env_score}\" )\n",
    "    # else:\n",
    "        # print(f\"Not enough data to calculate correlation for {company_name}\")\n",
    "\n"
   ]
  },
  {
   "cell_type": "code",
   "execution_count": null,
   "id": "f831044d-25ec-4e9c-ab37-699827596b06",
   "metadata": {},
   "outputs": [],
   "source": []
  }
 ],
 "metadata": {
  "kernelspec": {
   "display_name": "Python 3 (ipykernel)",
   "language": "python",
   "name": "python3"
  },
  "language_info": {
   "codemirror_mode": {
    "name": "ipython",
    "version": 3
   },
   "file_extension": ".py",
   "mimetype": "text/x-python",
   "name": "python",
   "nbconvert_exporter": "python",
   "pygments_lexer": "ipython3",
   "version": "3.11.6"
  }
 },
 "nbformat": 4,
 "nbformat_minor": 5
}
